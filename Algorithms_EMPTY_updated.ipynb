{
 "cells": [
  {
   "cell_type": "markdown",
   "metadata": {},
   "source": [
    "# Classic Algorithms"
   ]
  },
  {
   "cell_type": "markdown",
   "metadata": {},
   "source": [
    "## Tasks Today:\n",
    "\n",
    "<b>Continue from yesterday:</b><br>\n",
    "&nbsp;&nbsp;&nbsp;&nbsp; - Generators\n",
    " \n",
    "1) <b>In-Place Algorithms</b> <br>\n",
    " &nbsp;&nbsp;&nbsp;&nbsp; a) Syntax <br>\n",
    " &nbsp;&nbsp;&nbsp;&nbsp; a) Out of Place Algorithm <br>\n",
    " &nbsp;&nbsp;&nbsp;&nbsp; b) In-Class Exercise #1 <br>\n",
    "2) <b>Two Pointers</b> <br>\n",
    "3) <b>Sorting Algorithms</b> <br>\n",
    "4) <b>Merge Sort</b> <br>\n",
    " &nbsp;&nbsp;&nbsp;&nbsp; a) Video on Algorithms <br>\n",
    " &nbsp;&nbsp;&nbsp;&nbsp; b) How it Works <br>\n",
    "5) <b>Exercises</b> <br>\n",
    " &nbsp;&nbsp;&nbsp;&nbsp; a) Exercise #1 - Reverse a List in Place Using an In-Place Algorithm <br>\n",
    " &nbsp;&nbsp;&nbsp;&nbsp; b) Exercise #2 - Find Distinct Words <br>\n",
    " &nbsp;&nbsp;&nbsp;&nbsp; c) Exercise #3 - Write a program to implement a Linear Search Algorithm. <br>"
   ]
  },
  {
   "cell_type": "markdown",
   "metadata": {},
   "source": [
    "## Generators <br>\n",
    "<p>Generators are a type of iterable, like lists or tuples. They do not allow indexing, but they can still be iterated through with for loops. They are created using functions and the yield statement.</p>"
   ]
  },
  {
   "cell_type": "code",
   "execution_count": null,
   "metadata": {},
   "outputs": [],
   "source": []
  },
  {
   "cell_type": "markdown",
   "metadata": {},
   "source": [
    "#### Yield Keyword <br>\n",
    "<p>The yield keyword denotes a generator, it doesn't return so it won't leave the function and reset all variables in the function scope, instead it yields the number back to the caller.</p>"
   ]
  },
  {
   "cell_type": "code",
   "execution_count": null,
   "metadata": {},
   "outputs": [],
   "source": []
  },
  {
   "cell_type": "markdown",
   "metadata": {},
   "source": [
    "#### Infinite Generator"
   ]
  },
  {
   "cell_type": "code",
   "execution_count": null,
   "metadata": {},
   "outputs": [],
   "source": [
    "# bad!! never create infinite loops"
   ]
  },
  {
   "cell_type": "code",
   "execution_count": null,
   "metadata": {},
   "outputs": [],
   "source": []
  },
  {
   "cell_type": "markdown",
   "metadata": {},
   "source": [
    "#### In-Class Exercise #6 <br>\n",
    "<p>Create a generator that takes a number argument and yields that number squared, then prints each number squared until zero is reached.</p>"
   ]
  },
  {
   "cell_type": "code",
   "execution_count": null,
   "metadata": {},
   "outputs": [],
   "source": []
  },
  {
   "cell_type": "markdown",
   "metadata": {},
   "source": [
    "## In-Place Algorithms"
   ]
  },
  {
   "cell_type": "markdown",
   "metadata": {},
   "source": [
    "#### Syntax"
   ]
  },
  {
   "cell_type": "code",
   "execution_count": 4,
   "metadata": {},
   "outputs": [
    {
     "name": "stdout",
     "output_type": "stream",
     "text": [
      "before swap:[4, 20, 10, 5, 13]\n",
      "after swap:[4, 13, 10, 5, 20]\n",
      "output None\n"
     ]
    }
   ],
   "source": [
    "#swap algorithm\n",
    "#in place which means it changes permanently from there on\n",
    "def swap(list1, x, y):\n",
    "    list1[x], list1[y] = list1[y], list1[x]\n",
    "    return\n",
    "\n",
    "list1 = [4, 20, 10, 5, 13]\n",
    "print(f'before swap:{list1}')\n",
    "\n",
    "output = swap(list1, 1, -1)\n",
    "\n",
    "print(f\"after swap:{list1}\")\n",
    "print(\"output\",output)"
   ]
  },
  {
   "cell_type": "markdown",
   "metadata": {},
   "source": [
    "#### Out of Place Algorithm"
   ]
  },
  {
   "cell_type": "code",
   "execution_count": 3,
   "metadata": {},
   "outputs": [
    {
     "name": "stdout",
     "output_type": "stream",
     "text": [
      "before swap:[4, 20, 10, 5, 13]\n",
      "after swap:[4, 20, 10, 5, 13]\n",
      "output [4, 13, 10, 5, 20]\n"
     ]
    }
   ],
   "source": [
    "# doesn't effect the original\n",
    "def swap(list1, x, y):\n",
    "    copy = list1[:]\n",
    "    copy[x], copy[y] = copy[y], copy[x]\n",
    "    return copy\n",
    "\n",
    "list1 = [4, 20, 10, 5, 13]\n",
    "print(f'before swap:{list1}')\n",
    "\n",
    "output = swap(list1, 1, -1)\n",
    "\n",
    "print(f\"after swap:{list1}\")\n",
    "print(\"output\",output)\n"
   ]
  },
  {
   "cell_type": "markdown",
   "metadata": {},
   "source": [
    "#### In-Class Exercise #1 <br>\n",
    "<p>Write a function that takes in four arguments (list, index1, index2, index3), and swaps those three positions in the list passed in.</p>"
   ]
  },
  {
   "cell_type": "code",
   "execution_count": 13,
   "metadata": {},
   "outputs": [
    {
     "name": "stdout",
     "output_type": "stream",
     "text": [
      "[10, 3, 8, 4, 4, 2, 6]\n"
     ]
    }
   ],
   "source": [
    "l_1 = [10, 4, 3, 8, 4, 2, 6]\n",
    "\n",
    "def exercise1(list1, x, y, z):\n",
    "    list1[x], list1[y], list1[z] = list1[y], list1[z], list1[x]\n",
    "    return\n",
    "\n",
    "l_1 = [10, 4, 3, 8, 4, 2, 6]\n",
    "\n",
    "list1 = exercise1(l_1, 1, 2, 3)\n",
    "print(f\"{l_1}\")"
   ]
  },
  {
   "cell_type": "markdown",
   "metadata": {},
   "source": [
    "## Two Pointers"
   ]
  },
  {
   "cell_type": "markdown",
   "metadata": {},
   "source": [
    "#### Syntax"
   ]
  },
  {
   "cell_type": "code",
   "execution_count": 14,
   "metadata": {},
   "outputs": [
    {
     "name": "stdout",
     "output_type": "stream",
     "text": [
      "[25, 23, 22, 6, 5, 4, 3, 2, 1]\n"
     ]
    }
   ],
   "source": [
    "#whiteboard questions!!!\n",
    "def two_pointer(list1):\n",
    "    left = 0\n",
    "    right = len(list1)-1\n",
    "    while left < right:\n",
    "        list1[left], list1[right] = list1[right], list1[left]\n",
    "        left += 1\n",
    "        right -= 1\n",
    "    return\n",
    "\n",
    "my_list= [1, 2, 3, 4, 5, 6, 22, 23, 25]\n",
    "two_pointer(my_list)\n",
    "\n",
    "print(my_list)\n"
   ]
  },
  {
   "cell_type": "markdown",
   "metadata": {},
   "source": [
    "#### Video of Algorithms <br>\n",
    "<p>Watch the video about algorithms.</p>\n",
    "\n",
    "https://www.youtube.com/watch?v=Q9HjeFD62Uk\n",
    "\n",
    "https://www.youtube.com/watch?v=kPRA0W1kECg\n",
    "\n",
    "https://www.youtube.com/watch?v=ZZuD6iUe3Pc"
   ]
  },
  {
   "cell_type": "markdown",
   "metadata": {},
   "source": [
    "# Sorting Algorithms"
   ]
  },
  {
   "cell_type": "code",
   "execution_count": null,
   "metadata": {},
   "outputs": [],
   "source": []
  },
  {
   "cell_type": "markdown",
   "metadata": {},
   "source": [
    "#### Bubble Sort\n",
    "\n",
    "Worst Case: O(n^2) Time - O(1) Space"
   ]
  },
  {
   "cell_type": "code",
   "execution_count": 17,
   "metadata": {},
   "outputs": [
    {
     "name": "stdout",
     "output_type": "stream",
     "text": [
      "4\n",
      "[4, 5, 7, 10, 18, 20, 21, 22]\n"
     ]
    }
   ],
   "source": [
    "def swap(list1, x, y):\n",
    "    list1[x], list1[y] = list1[y], list1[x]\n",
    "    return\n",
    "\n",
    "def bubble_sort(nums):\n",
    "    isSorted = False\n",
    "    count = 0\n",
    "    \n",
    "    while isSorted == False:\n",
    "        performed_swap = False\n",
    "        for i in range(len(nums)-1-count):\n",
    "            #if right number is smaller, then swap\n",
    "            if nums[i] > nums[i + 1]:\n",
    "                swap(nums, i, i+1)\n",
    "                performed_swap = True\n",
    "                \n",
    "        if performed_swap == False:\n",
    "            isSorted = True\n",
    "                \n",
    "        count += 1\n",
    "        if count == len(nums)-1:\n",
    "            isSorted = True\n",
    "\n",
    "my_list = [7, 18, 21, 4, 5, 20, 22, 10]\n",
    "sorted_list = [1,2,3,4,5,6,7,8]\n",
    "bubble_sort(my_list)\n",
    "print(my_list)\n",
    "\n",
    "\n",
    "#not super efficient"
   ]
  },
  {
   "cell_type": "markdown",
   "metadata": {},
   "source": [
    "##### Insertion Sort\n",
    "\n",
    "Worst Case: O(n^2) time - O(1)space"
   ]
  },
  {
   "cell_type": "code",
   "execution_count": 19,
   "metadata": {},
   "outputs": [
    {
     "name": "stdout",
     "output_type": "stream",
     "text": [
      "[4, 5, 7, 10, 18, 20, 21, 22]\n"
     ]
    }
   ],
   "source": [
    "#also not super efficient, just different way to do it\n",
    "#example: bunch of name tags need to be alphabetical, take \"a\" and put it to the front \n",
    "\n",
    "def insertion_sort(nums):\n",
    "    for i in range(1, len(nums)):\n",
    "        j = i \n",
    "        while j > 0 and nums[j] < nums[j-1]:\n",
    "            swap(nums, j, j-1)\n",
    "            j -= 1\n",
    "            \n",
    "my_list = [7, 18, 21, 4, 5, 20, 22, 10]          \n",
    "insertion_sort(my_list)\n",
    "print(my_list)"
   ]
  },
  {
   "cell_type": "markdown",
   "metadata": {},
   "source": [
    "## Merge Sort"
   ]
  },
  {
   "cell_type": "markdown",
   "metadata": {},
   "source": [
    "#### How it Works"
   ]
  },
  {
   "cell_type": "code",
   "execution_count": 20,
   "metadata": {},
   "outputs": [
    {
     "name": "stdout",
     "output_type": "stream",
     "text": [
      "[4, 5, 7, 10, 18, 20, 21, 22]\n"
     ]
    }
   ],
   "source": [
    "# step 1: split everything in its own group\n",
    "# step 2: from left to right, merge groups together\n",
    "# step 3: while merging, place correct terms in their positions\n",
    "# step 4: continue 3-4 until I have 1 group left\n",
    "\n",
    "def merge_sort(nums):\n",
    "    #step 1: divide into equal paths\n",
    "    if len(nums) > 1:\n",
    "        mid = len(nums)//2\n",
    "        lefthalf = nums[:mid]\n",
    "        righthalf = nums[mid:]\n",
    "        \n",
    "        #recursively split left and right halves if needed\n",
    "        merge_sort(lefthalf)\n",
    "        merge_sort(righthalf)\n",
    "        \n",
    "        #index pointer for 3 lists\n",
    "        i = 0 #pointer for left\n",
    "        j = 0 #pointer for right\n",
    "        k = 0 #pointer for main\n",
    "        \n",
    "        # step 2: merge lists\n",
    "        \n",
    "        while i<len(lefthalf) and j<len(righthalf):\n",
    "            if lefthalf[i]<righthalf[j]:\n",
    "                nums[k] = lefthalf[i]\n",
    "                i += 1\n",
    "            else:\n",
    "                nums[k] = righthalf[j]\n",
    "                j += 1\n",
    "            k += 1\n",
    "            \n",
    "        #step 3: while merging, place correct terms in their positions, when one side finishes place the other group in the main array\n",
    "        while i < len(lefthalf):\n",
    "            nums[k] = lefthalf[i]\n",
    "            i += 1\n",
    "            k += 1\n",
    "        while j < len(righthalf):\n",
    "            nums[k] = righthalf[j]\n",
    "            j += 1\n",
    "            k += 1\n",
    "            \n",
    "            \n",
    "    return\n",
    "\n",
    "my_list = [7, 18, 21, 4, 5, 20, 22, 10] \n",
    "merge_sort(my_list)\n",
    "print(my_list)\n",
    "\n",
    "#looks more difficult and takes more work, but is way more efficient, grows linearly instead of exponentially"
   ]
  },
  {
   "cell_type": "markdown",
   "metadata": {},
   "source": [
    "# Binary Search\n",
    "\n",
    "The Binary Search algorithm works by finding the number in the middle of a given array and comparing it to the target. Given that the array is sorted\n",
    "\n",
    "* The worst case run time for this algorithm is `O(log(n))`"
   ]
  },
  {
   "cell_type": "code",
   "execution_count": 21,
   "metadata": {},
   "outputs": [
    {
     "data": {
      "text/plain": [
       "'I found my match: 21'"
      ]
     },
     "execution_count": 21,
     "metadata": {},
     "output_type": "execute_result"
    }
   ],
   "source": [
    "# example:guess # from 100 start with 50 then 25, etc. cut it in half each time\n",
    "\n",
    "def binary_search(list1, target):\n",
    "    left = 0\n",
    "    right = len(list1)\n",
    "    while left < right:\n",
    "        middle = (left + right) // 2\n",
    "        potential_match = list1[middle]\n",
    "        if target == potential_match:\n",
    "            return f'I found my match: {potential_match}'\n",
    "        elif target < potential_match:\n",
    "            right = middle - 1\n",
    "        else:\n",
    "            left = middle + 1\n",
    "            \n",
    "    return \"Not Found\"\n",
    "\n",
    "x = sorted([7, 18, 21, 4, 5, 20, 22, 10])\n",
    "    \n",
    "binary_search(x, 21)\n",
    "\n",
    "#another example: finding words in a dictionary, it's alphabetical so you can skip when looking for a specific word"
   ]
  },
  {
   "cell_type": "markdown",
   "metadata": {},
   "source": [
    "# Exercises"
   ]
  },
  {
   "cell_type": "markdown",
   "metadata": {},
   "source": [
    "### Exercise #1 <br>\n",
    "<p>Reverse the list below in-place using an in-place algorithm.<br>For extra credit: Reverse the strings at the same time.</p>"
   ]
  },
  {
   "cell_type": "code",
   "execution_count": 23,
   "metadata": {},
   "outputs": [
    {
     "name": "stdout",
     "output_type": "stream",
     "text": [
      "['.', 'sentence', 'a', 'is', 'this']\n"
     ]
    }
   ],
   "source": [
    "words = ['this' , 'is', 'a', 'sentence', '.']\n",
    "def reverse(list1):\n",
    "    left = 0\n",
    "    right = len(list1)-1\n",
    "    while left < right:\n",
    "        list1[left], list1[right] = list1[right], list1[left]\n",
    "        left += 1\n",
    "        right -= 1\n",
    "        \n",
    "    return\n",
    "\n",
    "\n",
    "reverse(words)\n",
    "\n",
    "print(words)"
   ]
  },
  {
   "cell_type": "markdown",
   "metadata": {},
   "source": [
    "### Exercise #2 <br>\n",
    "<p>Create a function that counts how many distinct words are in the string below, then outputs a dictionary with the words as the key and the value as the amount of times that word appears in the string.<br>Should output:<br>{'a': 5,<br>\n",
    " 'abstract': 1,<br>\n",
    " 'an': 3,<br>\n",
    " 'array': 2, ... etc...</p>"
   ]
  },
  {
   "cell_type": "code",
   "execution_count": 52,
   "metadata": {},
   "outputs": [],
   "source": [
    "a_text = 'In computing, a hash table hash map is a data structure which implements an associative array abstract data type, a structure that can map keys to values. A hash table uses a hash function to compute an index into an array of buckets or slots from which the desired value can be found'\n",
    "import re\n",
    "\n",
    "def count_words(string1):\n",
    "    words = re.compile(r\"[\\w]+\")\n",
    "    text = sorted(words.findall(string1))\n",
    "    dictionary = {}\n",
    "    for word in text:\n",
    "        if word.lower() not in dictionary:\n",
    "            dictionary[word.lower()] = 1\n",
    "        elif word in dictionary:\n",
    "            dictionary[word] = dictionary[word] + 1\n",
    "            \n",
    "            \n",
    "    print(dictionary)\n",
    "    \n",
    "count_words(a_text)\n"
   ]
  },
  {
   "cell_type": "markdown",
   "metadata": {},
   "source": [
    "## Exercise #3\n",
    "\n",
    "Write a program to implement a Linear Search Algorithm. Also in a comment, write the Time Complexity of the following algorithm.\n",
    "\n",
    "#### Hint: Linear Searching will require searching a list for a given number. "
   ]
  },
  {
   "cell_type": "code",
   "execution_count": 63,
   "metadata": {},
   "outputs": [
    {
     "name": "stdout",
     "output_type": "stream",
     "text": [
      "target is at 7\n"
     ]
    }
   ],
   "source": [
    "# start at the beginning and look through the entire thing\n",
    "# time complexity = n?\n",
    "\n",
    "def linear_search(list1, target):\n",
    "    for j in range(0, len(list1)):\n",
    "        if (list1[j] == target):\n",
    "            return f\"target is list1[j]}at {len(list1[j])}\"\n",
    "        else:\n",
    "            j+=1\n",
    "\n",
    "\n",
    " \n",
    "my_list = [1, 3, 5, 7, 9]\n",
    "target = 7\n",
    "\n",
    "result = linear_search(my_list, target)\n",
    "print(result)"
   ]
  },
  {
   "cell_type": "code",
   "execution_count": null,
   "metadata": {},
   "outputs": [],
   "source": []
  }
 ],
 "metadata": {
  "kernelspec": {
   "display_name": "Python 3 (ipykernel)",
   "language": "python",
   "name": "python3"
  },
  "language_info": {
   "codemirror_mode": {
    "name": "ipython",
    "version": 3
   },
   "file_extension": ".py",
   "mimetype": "text/x-python",
   "name": "python",
   "nbconvert_exporter": "python",
   "pygments_lexer": "ipython3",
   "version": "3.9.7"
  }
 },
 "nbformat": 4,
 "nbformat_minor": 2
}
